{
  "nbformat": 4,
  "nbformat_minor": 0,
  "metadata": {
    "colab": {
      "name": "diabetesDeepLearningMLM.ipynb",
      "provenance": [],
      "collapsed_sections": [
        "wTeGIq1ry8oa",
        "mzTrjF0My3eS",
        "pGAQUdnzz-Qv",
        "dg7sA9kv1nPm",
        "33vohd2d2TGs",
        "ApkziWThKQRn"
      ],
      "toc_visible": true
    },
    "kernelspec": {
      "name": "python3",
      "display_name": "Python 3"
    }
  },
  "cells": [
    {
      "cell_type": "markdown",
      "metadata": {
        "id": "1rvW1Y8gsZeM"
      },
      "source": [
        "## Keras Tutorial"
      ]
    },
    {
      "cell_type": "markdown",
      "metadata": {
        "id": "PvR_AC09shmp"
      },
      "source": [
        "https://machinelearningmastery.com/tutorial-first-neural-network-python-keras/\n",
        "\n",
        "The steps you are going to cover in this tutorial are as follows:\n",
        "\n",
        "Load Data.\n",
        "Define Keras Model.\n",
        "Compile Keras Model.\n",
        "Fit Keras Model.\n",
        "Evaluate Keras Model.\n",
        "Tie It All Together.\n",
        "Make Predictions"
      ]
    },
    {
      "cell_type": "code",
      "metadata": {
        "id": "4TSZBs4rsNg1"
      },
      "source": [
        "# first neural network with keras tutorial\n",
        "from numpy import loadtxt\n",
        "from keras.models import Sequential\n",
        "from keras.layers import Dense\n",
        "import csv"
      ],
      "execution_count": 10,
      "outputs": []
    },
    {
      "cell_type": "markdown",
      "metadata": {
        "id": "ccsf6O4Ds2Ke"
      },
      "source": [
        "In this Keras tutorial, we are going to use the Pima Indians onset of diabetes dataset. This is a standard machine learning dataset from the UCI Machine Learning repository. It describes patient medical record data for Pima Indians and whether they had an onset of diabetes within five years.\n",
        "\n",
        "As such, it is a binary classification problem (onset of diabetes as 1 or not as 0). All of the input variables that describe each patient are numerical. This makes it easy to use directly with neural networks that expect numerical input and output values, and ideal for our first neural network in Keras."
      ]
    },
    {
      "cell_type": "markdown",
      "metadata": {
        "id": "LTswl4detX1B"
      },
      "source": [
        "We can now load the file as a matrix of numbers using the NumPy function loadtxt().\n",
        "\n",
        "There are eight input variables and one output variable (the last column). We will be learning a model to map rows of input variables (X) to an output variable (y), which we often summarize as y = f(X).\n",
        "\n",
        "The variables can be summarized as follows:\n",
        "\n",
        "Input Variables (X):\n",
        "\n",
        "Number of times pregnant\n",
        "Plasma glucose concentration a 2 hours in an oral glucose tolerance test\n",
        "Diastolic blood pressure (mm Hg)\n",
        "Triceps skin fold thickness (mm)\n",
        "2-Hour serum insulin (mu U/ml)\n",
        "Body mass index (weight in kg/(height in m)^2)\n",
        "Diabetes pedigree function\n",
        "Age (years)\n",
        "Output Variables (y):\n",
        "\n",
        "Class variable (0 or 1)\n",
        "Once the CSV file is loaded into memory, we can split the columns of data into input and output variables.\n",
        "\n",
        "The data will be stored in a 2D array where the first dimension is rows and the second dimension is columns, e.g. [rows, columns].\n",
        "\n",
        "We can split the array into two arrays by selecting subsets of columns using the standard NumPy slice operator or “:” We can select the first 8 columns from index 0 to index 7 via the slice 0:8. We can then select the output column (the 9th variable) via index 8."
      ]
    },
    {
      "cell_type": "markdown",
      "metadata": {
        "id": "wTeGIq1ry8oa"
      },
      "source": [
        "## 1. Load Data"
      ]
    },
    {
      "cell_type": "code",
      "metadata": {
        "id": "bAlgW5C1tZhn"
      },
      "source": [
        "# load the dataset\n",
        "dataset = open('pima-indians-diabetes.csv', mode='r', encoding='utf-8-sig')\n",
        "dataset = loadtxt(dataset, delimiter=',')\n",
        "# split into input (X) and output (y) variables\n",
        "X = dataset[:,0:8]\n",
        "y = dataset[:,8]"
      ],
      "execution_count": 29,
      "outputs": []
    },
    {
      "cell_type": "markdown",
      "metadata": {
        "id": "KoE_BKdAyv6n"
      },
      "source": [
        "We are now ready to define our neural network model.\n",
        "\n",
        "Note, the dataset has 9 columns and the range 0:8 will select columns from 0 to 7, stopping before index 8. "
      ]
    },
    {
      "cell_type": "markdown",
      "metadata": {
        "id": "mzTrjF0My3eS"
      },
      "source": [
        "## 2. Define Keras Model"
      ]
    },
    {
      "cell_type": "markdown",
      "metadata": {
        "id": "CoitCgtezIrp"
      },
      "source": [
        "Models in Keras are defined as a sequence of layers.\n",
        "\n",
        "We create a Sequential model and add layers one at a time until we are happy with our network architecture.\n",
        "\n",
        "The first thing to get right is to ensure the input layer has the right number of input features. This can be specified when creating the first layer with the **input_dim** argument and setting it to 8 for the 8 input variables.\n",
        "\n",
        "How do we know the number of layers and their types?\n",
        "\n",
        "This is a very hard question. There are heuristics that we can use and often the best network structure is found through a process of trial and error experimentation. Generally, you need a network large enough to capture the structure of the problem.\n",
        "\n",
        "In this example, we will use a fully-connected network structure with three layers.\n",
        "\n",
        "Fully connected layers are defined using the Dense class. We can specify the number of neurons or nodes in the layer as the first argument, and specify the activation function using the **activation** argument.\n",
        "\n",
        "We will use the **rectified linear unit** activation function referred to as ReLU on the first two layers and the Sigmoid function in the output layer.\n",
        "\n",
        "It used to be the case that Sigmoid and Tanh activation functions were preferred for all layers. These days, better performance is achieved using the ReLU activation function. We use a sigmoid on the output layer to ensure our network output is between 0 and 1 and easy to map to either a probability of class 1 or snap to a hard classification of either class with a default threshold of 0.5.\n",
        "\n",
        "We can piece it all together by adding each layer:\n",
        "\n",
        "- The model expects rows of data with 8 variables (the input_dim=8 argument)\n",
        "- The first hidden layer has 12 nodes and uses the relu activation function.\n",
        "- The second hidden layer has 8 nodes and uses the relu activation function.\n",
        "- The output layer has one node and uses the sigmoid activation function."
      ]
    },
    {
      "cell_type": "code",
      "metadata": {
        "id": "6ozbb-I0zy27"
      },
      "source": [
        "# define the keras model\n",
        "model = Sequential()\n",
        "model.add(Dense(12, input_dim=8, activation='relu'))\n",
        "model.add(Dense(8, activation='relu'))\n",
        "model.add(Dense(1, activation='sigmoid'))"
      ],
      "execution_count": 30,
      "outputs": []
    },
    {
      "cell_type": "markdown",
      "metadata": {
        "id": "yMtsIaSwz4c3"
      },
      "source": [
        "***Note,*** the most confusing thing here is that the shape of the input to the model is defined as an argument on the first hidden layer. This means that the line of code that adds the first Dense layer is doing 2 things, defining the input or visible layer and the first hidden layer."
      ]
    },
    {
      "cell_type": "markdown",
      "metadata": {
        "id": "pGAQUdnzz-Qv"
      },
      "source": [
        "## 3. Compile Keras Model"
      ]
    },
    {
      "cell_type": "markdown",
      "metadata": {
        "id": "XS-hGF-W1PD3"
      },
      "source": [
        "Compiling the model uses the efficient numerical libraries under the covers (the so-called backend) such as Theano or TensorFlow. The backend automatically chooses the best way to represent the network for training and making predictions to run on your hardware, such as CPU or GPU or even distributed.\n",
        "\n",
        "When compiling, we must specify some additional properties required when training the network. Remember training a network means finding the best set of weights to map inputs to outputs in our dataset.\n",
        "\n",
        "We must specify the loss function to use to evaluate a set of weights, the optimizer is used to search through different weights for the network and any optional metrics we would like to collect and report during training.\n",
        "\n",
        "- In this case, we will use cross entropy as the **loss** argument. This loss is for a binary classification problems and is defined in Keras as “**binary_crossentropy**“.\n",
        "\n",
        "- We will define the **optimizer** as the efficient stochastic gradient descent algorithm “**adam**“. This is a popular version of gradient descent because it automatically tunes itself and gives good results in a wide range of problems.\n",
        "\n",
        "- Finally, because it is a classification problem, we will collect and report the classification **accuracy**, defined via the **metrics** argument."
      ]
    },
    {
      "cell_type": "code",
      "metadata": {
        "id": "DeM8px791v3f"
      },
      "source": [
        "# compile the keras model\n",
        "model.compile(loss='binary_crossentropy', optimizer='adam', metrics=['accuracy'])"
      ],
      "execution_count": 31,
      "outputs": []
    },
    {
      "cell_type": "markdown",
      "metadata": {
        "id": "dg7sA9kv1nPm"
      },
      "source": [
        "## 4. Fit Keras Model"
      ]
    },
    {
      "cell_type": "markdown",
      "metadata": {
        "id": "PLE0Gt9616qQ"
      },
      "source": [
        "We have defined our model and compiled it ready for efficient computation.\n",
        "\n",
        "Now it is time to execute the model on some data.\n",
        "\n",
        "We can train or fit our model on our loaded data by calling the **fit()** function on the model.\n",
        "\n",
        "Training occurs over epochs and each epoch is split into batches.\n",
        "\n",
        "- **Epoch:** One pass through all of the rows in the training dataset.\n",
        "- **Batch:** One or more samples considered by the model within an epoch before weights are updated.\n",
        "\n",
        "One epoch is comprised of one or more batches, based on the chosen batch size and the model is fit for many epochs.\n",
        "\n",
        "\n",
        "The training process will run for a fixed number of iterations through the dataset called epochs, that we must specify using the **epochs** argument. We must also set the number of dataset rows that are considered before the model weights are updated within each epoch, called the batch size and set using the **batch_size** argument.\n",
        "\n",
        "For this problem, we will run for a small number of epochs (150) and use a relatively small batch size of 10.\n",
        "\n",
        "These configurations can be chosen experimentally by trial and error. We want to train the model enough so that it learns a good (or good enough) mapping of rows of input data to the output classification. The model will always have some error, but the amount of error will level out after some point for a given model configuration. This is called model convergence."
      ]
    },
    {
      "cell_type": "code",
      "metadata": {
        "colab": {
          "base_uri": "https://localhost:8080/"
        },
        "id": "tiy44zCwJQuI",
        "outputId": "2b56a8ca-cbe7-4705-a5f6-7036f5f77fac"
      },
      "source": [
        "# fit the keras model on the dataset\n",
        "model.fit(X, y, epochs=150, batch_size=10)"
      ],
      "execution_count": 32,
      "outputs": [
        {
          "output_type": "stream",
          "text": [
            "Epoch 1/150\n",
            "77/77 [==============================] - 1s 1ms/step - loss: 2.4760 - accuracy: 0.5327\n",
            "Epoch 2/150\n",
            "77/77 [==============================] - 0s 982us/step - loss: 1.1832 - accuracy: 0.5922\n",
            "Epoch 3/150\n",
            "77/77 [==============================] - 0s 993us/step - loss: 1.0096 - accuracy: 0.5980\n",
            "Epoch 4/150\n",
            "77/77 [==============================] - 0s 983us/step - loss: 0.9992 - accuracy: 0.5851\n",
            "Epoch 5/150\n",
            "77/77 [==============================] - 0s 976us/step - loss: 1.0084 - accuracy: 0.6151\n",
            "Epoch 6/150\n",
            "77/77 [==============================] - 0s 991us/step - loss: 0.9089 - accuracy: 0.5995\n",
            "Epoch 7/150\n",
            "77/77 [==============================] - 0s 1ms/step - loss: 0.7685 - accuracy: 0.6611\n",
            "Epoch 8/150\n",
            "77/77 [==============================] - 0s 997us/step - loss: 0.7880 - accuracy: 0.6468\n",
            "Epoch 9/150\n",
            "77/77 [==============================] - 0s 1ms/step - loss: 0.6796 - accuracy: 0.6436\n",
            "Epoch 10/150\n",
            "77/77 [==============================] - 0s 1ms/step - loss: 0.7083 - accuracy: 0.6341\n",
            "Epoch 11/150\n",
            "77/77 [==============================] - 0s 1ms/step - loss: 0.6711 - accuracy: 0.6708\n",
            "Epoch 12/150\n",
            "77/77 [==============================] - 0s 1ms/step - loss: 0.7790 - accuracy: 0.5947\n",
            "Epoch 13/150\n",
            "77/77 [==============================] - 0s 1ms/step - loss: 0.6310 - accuracy: 0.6498\n",
            "Epoch 14/150\n",
            "77/77 [==============================] - 0s 988us/step - loss: 0.6366 - accuracy: 0.6568\n",
            "Epoch 15/150\n",
            "77/77 [==============================] - 0s 1ms/step - loss: 0.6730 - accuracy: 0.6308\n",
            "Epoch 16/150\n",
            "77/77 [==============================] - 0s 1ms/step - loss: 0.6090 - accuracy: 0.6848\n",
            "Epoch 17/150\n",
            "77/77 [==============================] - 0s 964us/step - loss: 0.6482 - accuracy: 0.6708\n",
            "Epoch 18/150\n",
            "77/77 [==============================] - 0s 1ms/step - loss: 0.6473 - accuracy: 0.6545\n",
            "Epoch 19/150\n",
            "77/77 [==============================] - 0s 1ms/step - loss: 0.6079 - accuracy: 0.6765\n",
            "Epoch 20/150\n",
            "77/77 [==============================] - 0s 999us/step - loss: 0.6254 - accuracy: 0.6611\n",
            "Epoch 21/150\n",
            "77/77 [==============================] - 0s 1ms/step - loss: 0.6311 - accuracy: 0.6621\n",
            "Epoch 22/150\n",
            "77/77 [==============================] - 0s 1ms/step - loss: 0.6062 - accuracy: 0.6949\n",
            "Epoch 23/150\n",
            "77/77 [==============================] - 0s 993us/step - loss: 0.6262 - accuracy: 0.6803\n",
            "Epoch 24/150\n",
            "77/77 [==============================] - 0s 1ms/step - loss: 0.6833 - accuracy: 0.6630\n",
            "Epoch 25/150\n",
            "77/77 [==============================] - 0s 981us/step - loss: 0.6476 - accuracy: 0.6676\n",
            "Epoch 26/150\n",
            "77/77 [==============================] - 0s 1ms/step - loss: 0.6261 - accuracy: 0.6587\n",
            "Epoch 27/150\n",
            "77/77 [==============================] - 0s 1ms/step - loss: 0.6132 - accuracy: 0.6947\n",
            "Epoch 28/150\n",
            "77/77 [==============================] - 0s 1ms/step - loss: 0.6064 - accuracy: 0.6689\n",
            "Epoch 29/150\n",
            "77/77 [==============================] - 0s 1ms/step - loss: 0.6376 - accuracy: 0.6825\n",
            "Epoch 30/150\n",
            "77/77 [==============================] - 0s 994us/step - loss: 0.6298 - accuracy: 0.6643\n",
            "Epoch 31/150\n",
            "77/77 [==============================] - 0s 1ms/step - loss: 0.6100 - accuracy: 0.6840\n",
            "Epoch 32/150\n",
            "77/77 [==============================] - 0s 981us/step - loss: 0.5868 - accuracy: 0.6909\n",
            "Epoch 33/150\n",
            "77/77 [==============================] - 0s 980us/step - loss: 0.5632 - accuracy: 0.7191\n",
            "Epoch 34/150\n",
            "77/77 [==============================] - 0s 1ms/step - loss: 0.6459 - accuracy: 0.6795\n",
            "Epoch 35/150\n",
            "77/77 [==============================] - 0s 1ms/step - loss: 0.5769 - accuracy: 0.6831\n",
            "Epoch 36/150\n",
            "77/77 [==============================] - 0s 1ms/step - loss: 0.5967 - accuracy: 0.6530\n",
            "Epoch 37/150\n",
            "77/77 [==============================] - 0s 979us/step - loss: 0.5768 - accuracy: 0.6894\n",
            "Epoch 38/150\n",
            "77/77 [==============================] - 0s 1ms/step - loss: 0.6082 - accuracy: 0.6754\n",
            "Epoch 39/150\n",
            "77/77 [==============================] - 0s 1ms/step - loss: 0.5737 - accuracy: 0.7046\n",
            "Epoch 40/150\n",
            "77/77 [==============================] - 0s 995us/step - loss: 0.5736 - accuracy: 0.6918\n",
            "Epoch 41/150\n",
            "77/77 [==============================] - 0s 1ms/step - loss: 0.5914 - accuracy: 0.6781\n",
            "Epoch 42/150\n",
            "77/77 [==============================] - 0s 976us/step - loss: 0.6095 - accuracy: 0.6749\n",
            "Epoch 43/150\n",
            "77/77 [==============================] - 0s 998us/step - loss: 0.5939 - accuracy: 0.6960\n",
            "Epoch 44/150\n",
            "77/77 [==============================] - 0s 977us/step - loss: 0.6787 - accuracy: 0.6538\n",
            "Epoch 45/150\n",
            "77/77 [==============================] - 0s 965us/step - loss: 0.5654 - accuracy: 0.6993\n",
            "Epoch 46/150\n",
            "77/77 [==============================] - 0s 1ms/step - loss: 0.5699 - accuracy: 0.6926\n",
            "Epoch 47/150\n",
            "77/77 [==============================] - 0s 1ms/step - loss: 0.6069 - accuracy: 0.7098\n",
            "Epoch 48/150\n",
            "77/77 [==============================] - 0s 1ms/step - loss: 0.5908 - accuracy: 0.6982\n",
            "Epoch 49/150\n",
            "77/77 [==============================] - 0s 996us/step - loss: 0.5834 - accuracy: 0.7098\n",
            "Epoch 50/150\n",
            "77/77 [==============================] - 0s 971us/step - loss: 0.5962 - accuracy: 0.6965\n",
            "Epoch 51/150\n",
            "77/77 [==============================] - 0s 1ms/step - loss: 0.5495 - accuracy: 0.7430\n",
            "Epoch 52/150\n",
            "77/77 [==============================] - 0s 1ms/step - loss: 0.5495 - accuracy: 0.7247\n",
            "Epoch 53/150\n",
            "77/77 [==============================] - 0s 965us/step - loss: 0.5883 - accuracy: 0.7009\n",
            "Epoch 54/150\n",
            "77/77 [==============================] - 0s 1ms/step - loss: 0.5801 - accuracy: 0.7095\n",
            "Epoch 55/150\n",
            "77/77 [==============================] - 0s 968us/step - loss: 0.5686 - accuracy: 0.7175\n",
            "Epoch 56/150\n",
            "77/77 [==============================] - 0s 989us/step - loss: 0.5378 - accuracy: 0.7293\n",
            "Epoch 57/150\n",
            "77/77 [==============================] - 0s 1ms/step - loss: 0.5264 - accuracy: 0.7405\n",
            "Epoch 58/150\n",
            "77/77 [==============================] - 0s 1ms/step - loss: 0.5685 - accuracy: 0.7184\n",
            "Epoch 59/150\n",
            "77/77 [==============================] - 0s 1ms/step - loss: 0.5444 - accuracy: 0.7251\n",
            "Epoch 60/150\n",
            "77/77 [==============================] - 0s 1ms/step - loss: 0.5336 - accuracy: 0.7294\n",
            "Epoch 61/150\n",
            "77/77 [==============================] - 0s 1ms/step - loss: 0.5645 - accuracy: 0.6999\n",
            "Epoch 62/150\n",
            "77/77 [==============================] - 0s 1ms/step - loss: 0.5675 - accuracy: 0.7291\n",
            "Epoch 63/150\n",
            "77/77 [==============================] - 0s 975us/step - loss: 0.5558 - accuracy: 0.7234\n",
            "Epoch 64/150\n",
            "77/77 [==============================] - 0s 969us/step - loss: 0.5698 - accuracy: 0.7305\n",
            "Epoch 65/150\n",
            "77/77 [==============================] - 0s 1ms/step - loss: 0.5370 - accuracy: 0.7155\n",
            "Epoch 66/150\n",
            "77/77 [==============================] - 0s 977us/step - loss: 0.5646 - accuracy: 0.7113\n",
            "Epoch 67/150\n",
            "77/77 [==============================] - 0s 945us/step - loss: 0.5357 - accuracy: 0.7261\n",
            "Epoch 68/150\n",
            "77/77 [==============================] - 0s 1ms/step - loss: 0.5655 - accuracy: 0.7105\n",
            "Epoch 69/150\n",
            "77/77 [==============================] - 0s 966us/step - loss: 0.5503 - accuracy: 0.7515\n",
            "Epoch 70/150\n",
            "77/77 [==============================] - 0s 977us/step - loss: 0.5401 - accuracy: 0.7455\n",
            "Epoch 71/150\n",
            "77/77 [==============================] - 0s 1ms/step - loss: 0.5495 - accuracy: 0.7066\n",
            "Epoch 72/150\n",
            "77/77 [==============================] - 0s 1ms/step - loss: 0.5350 - accuracy: 0.7145\n",
            "Epoch 73/150\n",
            "77/77 [==============================] - 0s 966us/step - loss: 0.5606 - accuracy: 0.7230\n",
            "Epoch 74/150\n",
            "77/77 [==============================] - 0s 973us/step - loss: 0.5430 - accuracy: 0.7212\n",
            "Epoch 75/150\n",
            "77/77 [==============================] - 0s 996us/step - loss: 0.5587 - accuracy: 0.7234\n",
            "Epoch 76/150\n",
            "77/77 [==============================] - 0s 1ms/step - loss: 0.5784 - accuracy: 0.7253\n",
            "Epoch 77/150\n",
            "77/77 [==============================] - 0s 978us/step - loss: 0.5389 - accuracy: 0.7339\n",
            "Epoch 78/150\n",
            "77/77 [==============================] - 0s 1ms/step - loss: 0.5526 - accuracy: 0.7399\n",
            "Epoch 79/150\n",
            "77/77 [==============================] - 0s 1000us/step - loss: 0.5496 - accuracy: 0.7164\n",
            "Epoch 80/150\n",
            "77/77 [==============================] - 0s 979us/step - loss: 0.5606 - accuracy: 0.7175\n",
            "Epoch 81/150\n",
            "77/77 [==============================] - 0s 1ms/step - loss: 0.5459 - accuracy: 0.7422\n",
            "Epoch 82/150\n",
            "77/77 [==============================] - 0s 1ms/step - loss: 0.5408 - accuracy: 0.7313\n",
            "Epoch 83/150\n",
            "77/77 [==============================] - 0s 1ms/step - loss: 0.5283 - accuracy: 0.7315\n",
            "Epoch 84/150\n",
            "77/77 [==============================] - 0s 1ms/step - loss: 0.5143 - accuracy: 0.7651\n",
            "Epoch 85/150\n",
            "77/77 [==============================] - 0s 1ms/step - loss: 0.5418 - accuracy: 0.7235\n",
            "Epoch 86/150\n",
            "77/77 [==============================] - 0s 1ms/step - loss: 0.5209 - accuracy: 0.7516\n",
            "Epoch 87/150\n",
            "77/77 [==============================] - 0s 1ms/step - loss: 0.4984 - accuracy: 0.7444\n",
            "Epoch 88/150\n",
            "77/77 [==============================] - 0s 1ms/step - loss: 0.5358 - accuracy: 0.7597\n",
            "Epoch 89/150\n",
            "77/77 [==============================] - 0s 1ms/step - loss: 0.5598 - accuracy: 0.7244\n",
            "Epoch 90/150\n",
            "77/77 [==============================] - 0s 1ms/step - loss: 0.5097 - accuracy: 0.7540\n",
            "Epoch 91/150\n",
            "77/77 [==============================] - 0s 994us/step - loss: 0.5117 - accuracy: 0.7161\n",
            "Epoch 92/150\n",
            "77/77 [==============================] - 0s 1000us/step - loss: 0.5583 - accuracy: 0.7056\n",
            "Epoch 93/150\n",
            "77/77 [==============================] - 0s 1ms/step - loss: 0.5648 - accuracy: 0.7214\n",
            "Epoch 94/150\n",
            "77/77 [==============================] - 0s 1ms/step - loss: 0.5404 - accuracy: 0.7327\n",
            "Epoch 95/150\n",
            "77/77 [==============================] - 0s 1ms/step - loss: 0.5263 - accuracy: 0.7217\n",
            "Epoch 96/150\n",
            "77/77 [==============================] - 0s 1ms/step - loss: 0.5458 - accuracy: 0.7327\n",
            "Epoch 97/150\n",
            "77/77 [==============================] - 0s 992us/step - loss: 0.5387 - accuracy: 0.7415\n",
            "Epoch 98/150\n",
            "77/77 [==============================] - 0s 988us/step - loss: 0.5380 - accuracy: 0.7199\n",
            "Epoch 99/150\n",
            "77/77 [==============================] - 0s 1ms/step - loss: 0.5115 - accuracy: 0.7458\n",
            "Epoch 100/150\n",
            "77/77 [==============================] - 0s 955us/step - loss: 0.5284 - accuracy: 0.7279\n",
            "Epoch 101/150\n",
            "77/77 [==============================] - 0s 1ms/step - loss: 0.5086 - accuracy: 0.7650\n",
            "Epoch 102/150\n",
            "77/77 [==============================] - 0s 1ms/step - loss: 0.5520 - accuracy: 0.6983\n",
            "Epoch 103/150\n",
            "77/77 [==============================] - 0s 1ms/step - loss: 0.5141 - accuracy: 0.7632\n",
            "Epoch 104/150\n",
            "77/77 [==============================] - 0s 970us/step - loss: 0.5196 - accuracy: 0.7390\n",
            "Epoch 105/150\n",
            "77/77 [==============================] - 0s 998us/step - loss: 0.5231 - accuracy: 0.7509\n",
            "Epoch 106/150\n",
            "77/77 [==============================] - 0s 1ms/step - loss: 0.5378 - accuracy: 0.7212\n",
            "Epoch 107/150\n",
            "77/77 [==============================] - 0s 983us/step - loss: 0.5153 - accuracy: 0.7638\n",
            "Epoch 108/150\n",
            "77/77 [==============================] - 0s 1ms/step - loss: 0.5520 - accuracy: 0.7334\n",
            "Epoch 109/150\n",
            "77/77 [==============================] - 0s 1ms/step - loss: 0.5384 - accuracy: 0.7437\n",
            "Epoch 110/150\n",
            "77/77 [==============================] - 0s 1ms/step - loss: 0.5792 - accuracy: 0.7083\n",
            "Epoch 111/150\n",
            "77/77 [==============================] - 0s 1ms/step - loss: 0.5390 - accuracy: 0.7071\n",
            "Epoch 112/150\n",
            "77/77 [==============================] - 0s 995us/step - loss: 0.5102 - accuracy: 0.7495\n",
            "Epoch 113/150\n",
            "77/77 [==============================] - 0s 991us/step - loss: 0.5735 - accuracy: 0.7147\n",
            "Epoch 114/150\n",
            "77/77 [==============================] - 0s 1ms/step - loss: 0.5105 - accuracy: 0.7490\n",
            "Epoch 115/150\n",
            "77/77 [==============================] - 0s 981us/step - loss: 0.4973 - accuracy: 0.7557\n",
            "Epoch 116/150\n",
            "77/77 [==============================] - 0s 1ms/step - loss: 0.5009 - accuracy: 0.7773\n",
            "Epoch 117/150\n",
            "77/77 [==============================] - 0s 966us/step - loss: 0.5489 - accuracy: 0.7275\n",
            "Epoch 118/150\n",
            "77/77 [==============================] - 0s 1ms/step - loss: 0.5884 - accuracy: 0.7246\n",
            "Epoch 119/150\n",
            "77/77 [==============================] - 0s 1ms/step - loss: 0.4981 - accuracy: 0.7525\n",
            "Epoch 120/150\n",
            "77/77 [==============================] - 0s 971us/step - loss: 0.5277 - accuracy: 0.7282\n",
            "Epoch 121/150\n",
            "77/77 [==============================] - 0s 1ms/step - loss: 0.5578 - accuracy: 0.6948\n",
            "Epoch 122/150\n",
            "77/77 [==============================] - 0s 1ms/step - loss: 0.5162 - accuracy: 0.7473\n",
            "Epoch 123/150\n",
            "77/77 [==============================] - 0s 994us/step - loss: 0.5110 - accuracy: 0.7575\n",
            "Epoch 124/150\n",
            "77/77 [==============================] - 0s 954us/step - loss: 0.5451 - accuracy: 0.7274\n",
            "Epoch 125/150\n",
            "77/77 [==============================] - 0s 1ms/step - loss: 0.5293 - accuracy: 0.7429\n",
            "Epoch 126/150\n",
            "77/77 [==============================] - 0s 989us/step - loss: 0.5172 - accuracy: 0.7691\n",
            "Epoch 127/150\n",
            "77/77 [==============================] - 0s 1ms/step - loss: 0.5196 - accuracy: 0.7477\n",
            "Epoch 128/150\n",
            "77/77 [==============================] - 0s 1ms/step - loss: 0.5078 - accuracy: 0.7495\n",
            "Epoch 129/150\n",
            "77/77 [==============================] - 0s 1ms/step - loss: 0.5056 - accuracy: 0.7865\n",
            "Epoch 130/150\n",
            "77/77 [==============================] - 0s 1ms/step - loss: 0.5142 - accuracy: 0.7370\n",
            "Epoch 131/150\n",
            "77/77 [==============================] - 0s 1ms/step - loss: 0.5052 - accuracy: 0.7424\n",
            "Epoch 132/150\n",
            "77/77 [==============================] - 0s 1ms/step - loss: 0.4922 - accuracy: 0.7387\n",
            "Epoch 133/150\n",
            "77/77 [==============================] - 0s 1ms/step - loss: 0.4904 - accuracy: 0.7693\n",
            "Epoch 134/150\n",
            "77/77 [==============================] - 0s 999us/step - loss: 0.5509 - accuracy: 0.7198\n",
            "Epoch 135/150\n",
            "77/77 [==============================] - 0s 1ms/step - loss: 0.5350 - accuracy: 0.7470\n",
            "Epoch 136/150\n",
            "77/77 [==============================] - 0s 998us/step - loss: 0.5151 - accuracy: 0.7441\n",
            "Epoch 137/150\n",
            "77/77 [==============================] - 0s 1ms/step - loss: 0.5464 - accuracy: 0.7439\n",
            "Epoch 138/150\n",
            "77/77 [==============================] - 0s 1ms/step - loss: 0.5291 - accuracy: 0.7444\n",
            "Epoch 139/150\n",
            "77/77 [==============================] - 0s 986us/step - loss: 0.4853 - accuracy: 0.7684\n",
            "Epoch 140/150\n",
            "77/77 [==============================] - 0s 1ms/step - loss: 0.5292 - accuracy: 0.7314\n",
            "Epoch 141/150\n",
            "77/77 [==============================] - 0s 1ms/step - loss: 0.5072 - accuracy: 0.7595\n",
            "Epoch 142/150\n",
            "77/77 [==============================] - 0s 1ms/step - loss: 0.5399 - accuracy: 0.7135\n",
            "Epoch 143/150\n",
            "77/77 [==============================] - 0s 1ms/step - loss: 0.5614 - accuracy: 0.6852\n",
            "Epoch 144/150\n",
            "77/77 [==============================] - 0s 1ms/step - loss: 0.5085 - accuracy: 0.7377\n",
            "Epoch 145/150\n",
            "77/77 [==============================] - 0s 1ms/step - loss: 0.5103 - accuracy: 0.7279\n",
            "Epoch 146/150\n",
            "77/77 [==============================] - 0s 1ms/step - loss: 0.5211 - accuracy: 0.7400\n",
            "Epoch 147/150\n",
            "77/77 [==============================] - 0s 1ms/step - loss: 0.5272 - accuracy: 0.7171\n",
            "Epoch 148/150\n",
            "77/77 [==============================] - 0s 1ms/step - loss: 0.5512 - accuracy: 0.7202\n",
            "Epoch 149/150\n",
            "77/77 [==============================] - 0s 1ms/step - loss: 0.4971 - accuracy: 0.7682\n",
            "Epoch 150/150\n",
            "77/77 [==============================] - 0s 971us/step - loss: 0.5413 - accuracy: 0.7287\n"
          ],
          "name": "stdout"
        },
        {
          "output_type": "execute_result",
          "data": {
            "text/plain": [
              "<tensorflow.python.keras.callbacks.History at 0x7f708be76748>"
            ]
          },
          "metadata": {
            "tags": []
          },
          "execution_count": 32
        }
      ]
    },
    {
      "cell_type": "markdown",
      "metadata": {
        "id": "33vohd2d2TGs"
      },
      "source": [
        "## 5. Evaluate Keras Model"
      ]
    },
    {
      "cell_type": "markdown",
      "metadata": {
        "id": "SLpLu1_PJ9GQ"
      },
      "source": [
        "We have trained our neural network on the entire dataset and we can evaluate the performance of the network on the same dataset.\n",
        "\n",
        "This will only give us an idea of how well we have modeled the dataset (e.g. train accuracy), but no idea of how well the algorithm might perform on new data. We have done this for simplicity, but ideally, you could separate your data into train and test datasets for training and evaluation of your model.\n",
        "\n",
        "You can evaluate your model on your training dataset using the **evaluate()** function on your model and pass it the same input and output used to train the model.\n",
        "\n",
        "This will generate a prediction for each input and output pair and collect scores, including the average loss and any metrics you have configured, such as accuracy.\n",
        "\n",
        "The **evaluate()** function will return a list with two values. The first will be the loss of the model on the dataset and the second will be the accuracy of the model on the dataset. We are only interested in reporting the accuracy, so we will ignore the loss value."
      ]
    },
    {
      "cell_type": "code",
      "metadata": {
        "colab": {
          "base_uri": "https://localhost:8080/"
        },
        "id": "HC4LFL3AKGBv",
        "outputId": "02975175-d6e3-4d5f-8455-9dae2ae80ea0"
      },
      "source": [
        "# evaluate the keras model\n",
        "_, accuracy = model.evaluate(X, y)\n",
        "print('Accuracy: %.2f' % (accuracy*100))"
      ],
      "execution_count": 33,
      "outputs": [
        {
          "output_type": "stream",
          "text": [
            "24/24 [==============================] - 0s 971us/step - loss: 0.5242 - accuracy: 0.7370\n",
            "Accuracy: 73.70\n"
          ],
          "name": "stdout"
        }
      ]
    },
    {
      "cell_type": "markdown",
      "metadata": {
        "id": "ApkziWThKQRn"
      },
      "source": [
        "## 6. Tie it All Together"
      ]
    },
    {
      "cell_type": "code",
      "metadata": {
        "colab": {
          "base_uri": "https://localhost:8080/"
        },
        "id": "vJ8uYSp4KZTF",
        "outputId": "a1c28951-7009-42e5-fca0-1683c5db1ca1"
      },
      "source": [
        "# first neural network with keras tutorial\n",
        "from numpy import loadtxt\n",
        "from keras.models import Sequential\n",
        "from keras.layers import Dense\n",
        "# load the dataset\n",
        "dataset = open('pima-indians-diabetes.csv', mode='r', encoding='utf-8-sig')\n",
        "dataset = loadtxt(dataset, delimiter=',')\n",
        "# split into input (X) and output (y) variables\n",
        "X = dataset[:,0:8]\n",
        "y = dataset[:,8]\n",
        "# define the keras model\n",
        "model = Sequential()\n",
        "model.add(Dense(12, input_dim=8, activation='relu'))\n",
        "model.add(Dense(8, activation='relu'))\n",
        "model.add(Dense(1, activation='sigmoid'))\n",
        "# compile the keras model\n",
        "model.compile(loss='binary_crossentropy', optimizer='adam', metrics=['accuracy'])\n",
        "# fit the keras model on the dataset\n",
        "model.fit(X, y, epochs=150, batch_size=10)\n",
        "# evaluate the keras model\n",
        "_, accuracy = model.evaluate(X, y)\n",
        "print('Accuracy: %.2f' % (accuracy*100))"
      ],
      "execution_count": 39,
      "outputs": [
        {
          "output_type": "stream",
          "text": [
            "Epoch 1/150\n",
            "77/77 [==============================] - 0s 1ms/step - loss: 21.6507 - accuracy: 0.5982\n",
            "Epoch 2/150\n",
            "77/77 [==============================] - 0s 985us/step - loss: 5.2703 - accuracy: 0.4663\n",
            "Epoch 3/150\n",
            "77/77 [==============================] - 0s 1ms/step - loss: 3.6914 - accuracy: 0.4631\n",
            "Epoch 4/150\n",
            "77/77 [==============================] - 0s 1ms/step - loss: 2.2498 - accuracy: 0.4532\n",
            "Epoch 5/150\n",
            "77/77 [==============================] - 0s 1ms/step - loss: 1.2410 - accuracy: 0.5666\n",
            "Epoch 6/150\n",
            "77/77 [==============================] - 0s 1ms/step - loss: 0.9803 - accuracy: 0.6086\n",
            "Epoch 7/150\n",
            "77/77 [==============================] - 0s 986us/step - loss: 0.8189 - accuracy: 0.6515\n",
            "Epoch 8/150\n",
            "77/77 [==============================] - 0s 1ms/step - loss: 0.8561 - accuracy: 0.5859\n",
            "Epoch 9/150\n",
            "77/77 [==============================] - 0s 1ms/step - loss: 0.7820 - accuracy: 0.6344\n",
            "Epoch 10/150\n",
            "77/77 [==============================] - 0s 1000us/step - loss: 0.6430 - accuracy: 0.6813\n",
            "Epoch 11/150\n",
            "77/77 [==============================] - 0s 1ms/step - loss: 0.6773 - accuracy: 0.6626\n",
            "Epoch 12/150\n",
            "77/77 [==============================] - 0s 1ms/step - loss: 0.6489 - accuracy: 0.6862\n",
            "Epoch 13/150\n",
            "77/77 [==============================] - 0s 1ms/step - loss: 0.6613 - accuracy: 0.6622\n",
            "Epoch 14/150\n",
            "77/77 [==============================] - 0s 1ms/step - loss: 0.5939 - accuracy: 0.7142\n",
            "Epoch 15/150\n",
            "77/77 [==============================] - 0s 1ms/step - loss: 0.6322 - accuracy: 0.6822\n",
            "Epoch 16/150\n",
            "77/77 [==============================] - 0s 1ms/step - loss: 0.5918 - accuracy: 0.6848\n",
            "Epoch 17/150\n",
            "77/77 [==============================] - 0s 1ms/step - loss: 0.6649 - accuracy: 0.6500\n",
            "Epoch 18/150\n",
            "77/77 [==============================] - 0s 1ms/step - loss: 0.6146 - accuracy: 0.6840\n",
            "Epoch 19/150\n",
            "77/77 [==============================] - 0s 1ms/step - loss: 0.5829 - accuracy: 0.7145\n",
            "Epoch 20/150\n",
            "77/77 [==============================] - 0s 1ms/step - loss: 0.6171 - accuracy: 0.6760\n",
            "Epoch 21/150\n",
            "77/77 [==============================] - 0s 1ms/step - loss: 0.6516 - accuracy: 0.6958\n",
            "Epoch 22/150\n",
            "77/77 [==============================] - 0s 987us/step - loss: 0.6165 - accuracy: 0.6764\n",
            "Epoch 23/150\n",
            "77/77 [==============================] - 0s 1ms/step - loss: 0.5729 - accuracy: 0.6906\n",
            "Epoch 24/150\n",
            "77/77 [==============================] - 0s 1ms/step - loss: 0.6028 - accuracy: 0.6831\n",
            "Epoch 25/150\n",
            "77/77 [==============================] - 0s 968us/step - loss: 0.5917 - accuracy: 0.6939\n",
            "Epoch 26/150\n",
            "77/77 [==============================] - 0s 1ms/step - loss: 0.6067 - accuracy: 0.6962\n",
            "Epoch 27/150\n",
            "77/77 [==============================] - 0s 994us/step - loss: 0.5658 - accuracy: 0.7323\n",
            "Epoch 28/150\n",
            "77/77 [==============================] - 0s 1ms/step - loss: 0.5531 - accuracy: 0.7339\n",
            "Epoch 29/150\n",
            "77/77 [==============================] - 0s 1ms/step - loss: 0.6184 - accuracy: 0.7059\n",
            "Epoch 30/150\n",
            "77/77 [==============================] - 0s 1ms/step - loss: 0.5860 - accuracy: 0.6948\n",
            "Epoch 31/150\n",
            "77/77 [==============================] - 0s 976us/step - loss: 0.6087 - accuracy: 0.6832\n",
            "Epoch 32/150\n",
            "77/77 [==============================] - 0s 1ms/step - loss: 0.5299 - accuracy: 0.7392\n",
            "Epoch 33/150\n",
            "77/77 [==============================] - 0s 1ms/step - loss: 0.5502 - accuracy: 0.7114\n",
            "Epoch 34/150\n",
            "77/77 [==============================] - 0s 984us/step - loss: 0.5802 - accuracy: 0.7016\n",
            "Epoch 35/150\n",
            "77/77 [==============================] - 0s 1ms/step - loss: 0.5492 - accuracy: 0.7293\n",
            "Epoch 36/150\n",
            "77/77 [==============================] - 0s 1ms/step - loss: 0.5852 - accuracy: 0.6910\n",
            "Epoch 37/150\n",
            "77/77 [==============================] - 0s 1ms/step - loss: 0.5489 - accuracy: 0.7207\n",
            "Epoch 38/150\n",
            "77/77 [==============================] - 0s 1ms/step - loss: 0.5501 - accuracy: 0.7372\n",
            "Epoch 39/150\n",
            "77/77 [==============================] - 0s 1ms/step - loss: 0.5390 - accuracy: 0.7179\n",
            "Epoch 40/150\n",
            "77/77 [==============================] - 0s 1ms/step - loss: 0.5591 - accuracy: 0.7174\n",
            "Epoch 41/150\n",
            "77/77 [==============================] - 0s 1ms/step - loss: 0.5758 - accuracy: 0.7010\n",
            "Epoch 42/150\n",
            "77/77 [==============================] - 0s 980us/step - loss: 0.5639 - accuracy: 0.7028\n",
            "Epoch 43/150\n",
            "77/77 [==============================] - 0s 1ms/step - loss: 0.5657 - accuracy: 0.7270\n",
            "Epoch 44/150\n",
            "77/77 [==============================] - 0s 1ms/step - loss: 0.5667 - accuracy: 0.6867\n",
            "Epoch 45/150\n",
            "77/77 [==============================] - 0s 1ms/step - loss: 0.5517 - accuracy: 0.7304\n",
            "Epoch 46/150\n",
            "77/77 [==============================] - 0s 1ms/step - loss: 0.5433 - accuracy: 0.7218\n",
            "Epoch 47/150\n",
            "77/77 [==============================] - 0s 1ms/step - loss: 0.5527 - accuracy: 0.7076\n",
            "Epoch 48/150\n",
            "77/77 [==============================] - 0s 1ms/step - loss: 0.5333 - accuracy: 0.7362\n",
            "Epoch 49/150\n",
            "77/77 [==============================] - 0s 1ms/step - loss: 0.5885 - accuracy: 0.7054\n",
            "Epoch 50/150\n",
            "77/77 [==============================] - 0s 987us/step - loss: 0.5253 - accuracy: 0.7508\n",
            "Epoch 51/150\n",
            "77/77 [==============================] - 0s 1ms/step - loss: 0.5852 - accuracy: 0.6936\n",
            "Epoch 52/150\n",
            "77/77 [==============================] - 0s 969us/step - loss: 0.5457 - accuracy: 0.7189\n",
            "Epoch 53/150\n",
            "77/77 [==============================] - 0s 1ms/step - loss: 0.5791 - accuracy: 0.7147\n",
            "Epoch 54/150\n",
            "77/77 [==============================] - 0s 1ms/step - loss: 0.5355 - accuracy: 0.7408\n",
            "Epoch 55/150\n",
            "77/77 [==============================] - 0s 1ms/step - loss: 0.5769 - accuracy: 0.7093\n",
            "Epoch 56/150\n",
            "77/77 [==============================] - 0s 1ms/step - loss: 0.5227 - accuracy: 0.7354\n",
            "Epoch 57/150\n",
            "77/77 [==============================] - 0s 998us/step - loss: 0.5573 - accuracy: 0.7231\n",
            "Epoch 58/150\n",
            "77/77 [==============================] - 0s 1ms/step - loss: 0.5450 - accuracy: 0.7291\n",
            "Epoch 59/150\n",
            "77/77 [==============================] - 0s 983us/step - loss: 0.5476 - accuracy: 0.7334\n",
            "Epoch 60/150\n",
            "77/77 [==============================] - 0s 1ms/step - loss: 0.5442 - accuracy: 0.7559\n",
            "Epoch 61/150\n",
            "77/77 [==============================] - 0s 995us/step - loss: 0.5291 - accuracy: 0.7413\n",
            "Epoch 62/150\n",
            "77/77 [==============================] - 0s 1ms/step - loss: 0.5780 - accuracy: 0.7298\n",
            "Epoch 63/150\n",
            "77/77 [==============================] - 0s 1ms/step - loss: 0.5333 - accuracy: 0.7204\n",
            "Epoch 64/150\n",
            "77/77 [==============================] - 0s 1ms/step - loss: 0.5491 - accuracy: 0.7317\n",
            "Epoch 65/150\n",
            "77/77 [==============================] - 0s 1ms/step - loss: 0.5634 - accuracy: 0.7316\n",
            "Epoch 66/150\n",
            "77/77 [==============================] - 0s 1ms/step - loss: 0.5337 - accuracy: 0.7370\n",
            "Epoch 67/150\n",
            "77/77 [==============================] - 0s 995us/step - loss: 0.5375 - accuracy: 0.7479\n",
            "Epoch 68/150\n",
            "77/77 [==============================] - 0s 1ms/step - loss: 0.5211 - accuracy: 0.7317\n",
            "Epoch 69/150\n",
            "77/77 [==============================] - 0s 1ms/step - loss: 0.5367 - accuracy: 0.7238\n",
            "Epoch 70/150\n",
            "77/77 [==============================] - 0s 1ms/step - loss: 0.5696 - accuracy: 0.7225\n",
            "Epoch 71/150\n",
            "77/77 [==============================] - 0s 1ms/step - loss: 0.5079 - accuracy: 0.7513\n",
            "Epoch 72/150\n",
            "77/77 [==============================] - 0s 1ms/step - loss: 0.5200 - accuracy: 0.7377\n",
            "Epoch 73/150\n",
            "77/77 [==============================] - 0s 1ms/step - loss: 0.5156 - accuracy: 0.7336\n",
            "Epoch 74/150\n",
            "77/77 [==============================] - 0s 1ms/step - loss: 0.5367 - accuracy: 0.7324\n",
            "Epoch 75/150\n",
            "77/77 [==============================] - 0s 1ms/step - loss: 0.5243 - accuracy: 0.7562\n",
            "Epoch 76/150\n",
            "77/77 [==============================] - 0s 1ms/step - loss: 0.5437 - accuracy: 0.7503\n",
            "Epoch 77/150\n",
            "77/77 [==============================] - 0s 1ms/step - loss: 0.5175 - accuracy: 0.7472\n",
            "Epoch 78/150\n",
            "77/77 [==============================] - 0s 1ms/step - loss: 0.5126 - accuracy: 0.7604\n",
            "Epoch 79/150\n",
            "77/77 [==============================] - 0s 1ms/step - loss: 0.4965 - accuracy: 0.7606\n",
            "Epoch 80/150\n",
            "77/77 [==============================] - 0s 988us/step - loss: 0.5425 - accuracy: 0.7124\n",
            "Epoch 81/150\n",
            "77/77 [==============================] - 0s 1ms/step - loss: 0.5272 - accuracy: 0.7239\n",
            "Epoch 82/150\n",
            "77/77 [==============================] - 0s 1ms/step - loss: 0.5666 - accuracy: 0.7299\n",
            "Epoch 83/150\n",
            "77/77 [==============================] - 0s 1ms/step - loss: 0.5303 - accuracy: 0.7369\n",
            "Epoch 84/150\n",
            "77/77 [==============================] - 0s 1ms/step - loss: 0.5392 - accuracy: 0.7711\n",
            "Epoch 85/150\n",
            "77/77 [==============================] - 0s 1ms/step - loss: 0.5012 - accuracy: 0.7627\n",
            "Epoch 86/150\n",
            "77/77 [==============================] - 0s 1ms/step - loss: 0.5500 - accuracy: 0.7135\n",
            "Epoch 87/150\n",
            "77/77 [==============================] - 0s 1ms/step - loss: 0.5472 - accuracy: 0.7350\n",
            "Epoch 88/150\n",
            "77/77 [==============================] - 0s 1ms/step - loss: 0.5323 - accuracy: 0.7265\n",
            "Epoch 89/150\n",
            "77/77 [==============================] - 0s 1ms/step - loss: 0.5182 - accuracy: 0.7710\n",
            "Epoch 90/150\n",
            "77/77 [==============================] - 0s 1ms/step - loss: 0.5209 - accuracy: 0.7440\n",
            "Epoch 91/150\n",
            "77/77 [==============================] - 0s 1ms/step - loss: 0.5209 - accuracy: 0.7487\n",
            "Epoch 92/150\n",
            "77/77 [==============================] - 0s 1ms/step - loss: 0.4883 - accuracy: 0.7723\n",
            "Epoch 93/150\n",
            "77/77 [==============================] - 0s 1ms/step - loss: 0.5379 - accuracy: 0.7368\n",
            "Epoch 94/150\n",
            "77/77 [==============================] - 0s 1ms/step - loss: 0.5266 - accuracy: 0.7548\n",
            "Epoch 95/150\n",
            "77/77 [==============================] - 0s 959us/step - loss: 0.4666 - accuracy: 0.7664\n",
            "Epoch 96/150\n",
            "77/77 [==============================] - 0s 1ms/step - loss: 0.5441 - accuracy: 0.7609\n",
            "Epoch 97/150\n",
            "77/77 [==============================] - 0s 1ms/step - loss: 0.5020 - accuracy: 0.7365\n",
            "Epoch 98/150\n",
            "77/77 [==============================] - 0s 1ms/step - loss: 0.4588 - accuracy: 0.7787\n",
            "Epoch 99/150\n",
            "77/77 [==============================] - 0s 1ms/step - loss: 0.5103 - accuracy: 0.7443\n",
            "Epoch 100/150\n",
            "77/77 [==============================] - 0s 1ms/step - loss: 0.5053 - accuracy: 0.7570\n",
            "Epoch 101/150\n",
            "77/77 [==============================] - 0s 981us/step - loss: 0.5302 - accuracy: 0.7400\n",
            "Epoch 102/150\n",
            "77/77 [==============================] - 0s 1ms/step - loss: 0.5043 - accuracy: 0.7368\n",
            "Epoch 103/150\n",
            "77/77 [==============================] - 0s 1ms/step - loss: 0.5374 - accuracy: 0.7625\n",
            "Epoch 104/150\n",
            "77/77 [==============================] - 0s 1ms/step - loss: 0.5351 - accuracy: 0.7218\n",
            "Epoch 105/150\n",
            "77/77 [==============================] - 0s 1ms/step - loss: 0.4954 - accuracy: 0.7759\n",
            "Epoch 106/150\n",
            "77/77 [==============================] - 0s 976us/step - loss: 0.5261 - accuracy: 0.7571\n",
            "Epoch 107/150\n",
            "77/77 [==============================] - 0s 1ms/step - loss: 0.5169 - accuracy: 0.7565\n",
            "Epoch 108/150\n",
            "77/77 [==============================] - 0s 997us/step - loss: 0.4681 - accuracy: 0.7704\n",
            "Epoch 109/150\n",
            "77/77 [==============================] - 0s 1ms/step - loss: 0.5290 - accuracy: 0.7498\n",
            "Epoch 110/150\n",
            "77/77 [==============================] - 0s 1ms/step - loss: 0.5290 - accuracy: 0.7496\n",
            "Epoch 111/150\n",
            "77/77 [==============================] - 0s 1ms/step - loss: 0.5470 - accuracy: 0.7256\n",
            "Epoch 112/150\n",
            "77/77 [==============================] - 0s 1ms/step - loss: 0.5593 - accuracy: 0.7253\n",
            "Epoch 113/150\n",
            "77/77 [==============================] - 0s 1ms/step - loss: 0.5057 - accuracy: 0.7540\n",
            "Epoch 114/150\n",
            "77/77 [==============================] - 0s 1ms/step - loss: 0.4934 - accuracy: 0.7524\n",
            "Epoch 115/150\n",
            "77/77 [==============================] - 0s 987us/step - loss: 0.4872 - accuracy: 0.7512\n",
            "Epoch 116/150\n",
            "77/77 [==============================] - 0s 1ms/step - loss: 0.5208 - accuracy: 0.7377\n",
            "Epoch 117/150\n",
            "77/77 [==============================] - 0s 1ms/step - loss: 0.4978 - accuracy: 0.7645\n",
            "Epoch 118/150\n",
            "77/77 [==============================] - 0s 1ms/step - loss: 0.4977 - accuracy: 0.7601\n",
            "Epoch 119/150\n",
            "77/77 [==============================] - 0s 1ms/step - loss: 0.5159 - accuracy: 0.7565\n",
            "Epoch 120/150\n",
            "77/77 [==============================] - 0s 1ms/step - loss: 0.4513 - accuracy: 0.7762\n",
            "Epoch 121/150\n",
            "77/77 [==============================] - 0s 1ms/step - loss: 0.4848 - accuracy: 0.7825\n",
            "Epoch 122/150\n",
            "77/77 [==============================] - 0s 1ms/step - loss: 0.4987 - accuracy: 0.7694\n",
            "Epoch 123/150\n",
            "77/77 [==============================] - 0s 1ms/step - loss: 0.5220 - accuracy: 0.7452\n",
            "Epoch 124/150\n",
            "77/77 [==============================] - 0s 1ms/step - loss: 0.4883 - accuracy: 0.7658\n",
            "Epoch 125/150\n",
            "77/77 [==============================] - 0s 1ms/step - loss: 0.5035 - accuracy: 0.7300\n",
            "Epoch 126/150\n",
            "77/77 [==============================] - 0s 1ms/step - loss: 0.5069 - accuracy: 0.7418\n",
            "Epoch 127/150\n",
            "77/77 [==============================] - 0s 1ms/step - loss: 0.5226 - accuracy: 0.7433\n",
            "Epoch 128/150\n",
            "77/77 [==============================] - 0s 1ms/step - loss: 0.4944 - accuracy: 0.7453\n",
            "Epoch 129/150\n",
            "77/77 [==============================] - 0s 1ms/step - loss: 0.4743 - accuracy: 0.7805\n",
            "Epoch 130/150\n",
            "77/77 [==============================] - 0s 1ms/step - loss: 0.5163 - accuracy: 0.7397\n",
            "Epoch 131/150\n",
            "77/77 [==============================] - 0s 1ms/step - loss: 0.5184 - accuracy: 0.7442\n",
            "Epoch 132/150\n",
            "77/77 [==============================] - 0s 1ms/step - loss: 0.5033 - accuracy: 0.7656\n",
            "Epoch 133/150\n",
            "77/77 [==============================] - 0s 1ms/step - loss: 0.5113 - accuracy: 0.7592\n",
            "Epoch 134/150\n",
            "77/77 [==============================] - 0s 1ms/step - loss: 0.4391 - accuracy: 0.7980\n",
            "Epoch 135/150\n",
            "77/77 [==============================] - 0s 1ms/step - loss: 0.5046 - accuracy: 0.7569\n",
            "Epoch 136/150\n",
            "77/77 [==============================] - 0s 1ms/step - loss: 0.4750 - accuracy: 0.7575\n",
            "Epoch 137/150\n",
            "77/77 [==============================] - 0s 1ms/step - loss: 0.4825 - accuracy: 0.7719\n",
            "Epoch 138/150\n",
            "77/77 [==============================] - 0s 1ms/step - loss: 0.4706 - accuracy: 0.7824\n",
            "Epoch 139/150\n",
            "77/77 [==============================] - 0s 1ms/step - loss: 0.4926 - accuracy: 0.7750\n",
            "Epoch 140/150\n",
            "77/77 [==============================] - 0s 1ms/step - loss: 0.4701 - accuracy: 0.7704\n",
            "Epoch 141/150\n",
            "77/77 [==============================] - 0s 1ms/step - loss: 0.4809 - accuracy: 0.7609\n",
            "Epoch 142/150\n",
            "77/77 [==============================] - 0s 1ms/step - loss: 0.4696 - accuracy: 0.7783\n",
            "Epoch 143/150\n",
            "77/77 [==============================] - 0s 1ms/step - loss: 0.4837 - accuracy: 0.7566\n",
            "Epoch 144/150\n",
            "77/77 [==============================] - 0s 1ms/step - loss: 0.4658 - accuracy: 0.7617\n",
            "Epoch 145/150\n",
            "77/77 [==============================] - 0s 1ms/step - loss: 0.4909 - accuracy: 0.7506\n",
            "Epoch 146/150\n",
            "77/77 [==============================] - 0s 1ms/step - loss: 0.5080 - accuracy: 0.7448\n",
            "Epoch 147/150\n",
            "77/77 [==============================] - 0s 1ms/step - loss: 0.4893 - accuracy: 0.7740\n",
            "Epoch 148/150\n",
            "77/77 [==============================] - 0s 1ms/step - loss: 0.5016 - accuracy: 0.7442\n",
            "Epoch 149/150\n",
            "77/77 [==============================] - 0s 1ms/step - loss: 0.5339 - accuracy: 0.7538\n",
            "Epoch 150/150\n",
            "77/77 [==============================] - 0s 1ms/step - loss: 0.5338 - accuracy: 0.7283\n",
            "24/24 [==============================] - 0s 937us/step - loss: 0.6126 - accuracy: 0.7031\n",
            "Accuracy: 70.31\n"
          ],
          "name": "stdout"
        }
      ]
    },
    {
      "cell_type": "markdown",
      "metadata": {
        "id": "b54uO3SpK7Xh"
      },
      "source": [
        "Results: \\\n",
        "Run 1: 78.26 \\\n",
        "Run 2: 76.04 \\\n",
        "Run 3: 77.08 \\\n",
        "Run 4: 65.10 \\\n",
        "Run 5: 70.31 \\"
      ]
    },
    {
      "cell_type": "markdown",
      "metadata": {
        "id": "cAONRwLlLf8m"
      },
      "source": [
        "## 7. Make Predictions"
      ]
    },
    {
      "cell_type": "markdown",
      "metadata": {
        "id": "vlShp8DyLmaO"
      },
      "source": [
        "We can adapt the above example and use it to generate predictions on the training dataset, pretending it is a new dataset we have not seen before.\n",
        "\n",
        "Making predictions is as easy as calling the **predict()** function on the model. We are using a sigmoid activation function on the output layer, so the predictions will be a probability in the range between 0 and 1. We can easily convert them into a crisp binary prediction for this classification task by rounding them."
      ]
    },
    {
      "cell_type": "code",
      "metadata": {
        "id": "Z4yZ_b5bLoWQ"
      },
      "source": [
        "# make probability predictions with the model\n",
        "predictions = model.predict(X)\n",
        "# round predictions \n",
        "rounded = [round(x[0]) for x in predictions]"
      ],
      "execution_count": 43,
      "outputs": []
    },
    {
      "cell_type": "markdown",
      "metadata": {
        "id": "bpFuG9uYLvbI"
      },
      "source": [
        "Alternately, we can call the **predict_classes()** function on the model to predict crisp classes directly, for example:"
      ]
    },
    {
      "cell_type": "code",
      "metadata": {
        "id": "UJX93_hbLyQ8"
      },
      "source": [
        "# make class predictions with the model\n",
        "predictions = model.predict_classes(X)"
      ],
      "execution_count": null,
      "outputs": []
    },
    {
      "cell_type": "markdown",
      "metadata": {
        "id": "ssro7Z8aMDT9"
      },
      "source": [
        "The complete example below makes predictions for each example in the dataset, then prints the input data, predicted class and expected class for the first 10 examples in the dataset."
      ]
    },
    {
      "cell_type": "code",
      "metadata": {
        "colab": {
          "base_uri": "https://localhost:8080/"
        },
        "id": "uRU3OYq3MEiK",
        "outputId": "d38d73f0-8314-4959-841d-2f041d30f114"
      },
      "source": [
        "# first neural network with keras make predictions\n",
        "from numpy import loadtxt\n",
        "from keras.models import Sequential\n",
        "from keras.layers import Dense\n",
        "# load the dataset\n",
        "dataset = open('pima-indians-diabetes.csv', mode='r', encoding='utf-8-sig')\n",
        "dataset = loadtxt(dataset, delimiter=',')\n",
        "# split into input (X) and output (y) variables\n",
        "X = dataset[:,0:8]\n",
        "y = dataset[:,8]\n",
        "# define the keras model\n",
        "model = Sequential()\n",
        "model.add(Dense(12, input_dim=8, activation='relu'))\n",
        "model.add(Dense(8, activation='relu'))\n",
        "model.add(Dense(1, activation='sigmoid'))\n",
        "# compile the keras model\n",
        "model.compile(loss='binary_crossentropy', optimizer='adam', metrics=['accuracy'])\n",
        "# fit the keras model on the dataset\n",
        "model.fit(X, y, epochs=150, batch_size=10, verbose=0)\n",
        "# make class predictions with the model\n",
        "predictions = model.predict_classes(X)\n",
        "# summarize the first 10 cases\n",
        "for i in range(10):\n",
        "\tprint('%s => %d (expected %d)' % (X[i].tolist(), predictions[i], y[i]))"
      ],
      "execution_count": 45,
      "outputs": [
        {
          "output_type": "stream",
          "text": [
            "[6.0, 148.0, 72.0, 35.0, 0.0, 33.6, 0.63, 50.0] => 1 (expected 1)\n",
            "[1.0, 85.0, 66.0, 29.0, 0.0, 26.6, 0.35, 31.0] => 0 (expected 0)\n",
            "[8.0, 183.0, 64.0, 0.0, 0.0, 23.3, 0.67, 32.0] => 1 (expected 1)\n",
            "[1.0, 89.0, 66.0, 23.0, 94.0, 28.1, 0.17, 21.0] => 0 (expected 0)\n",
            "[0.0, 137.0, 40.0, 35.0, 168.0, 43.1, 2.29, 33.0] => 1 (expected 1)\n",
            "[5.0, 116.0, 74.0, 0.0, 0.0, 25.6, 0.2, 30.0] => 0 (expected 0)\n",
            "[3.0, 78.0, 50.0, 32.0, 88.0, 31.0, 0.25, 26.0] => 0 (expected 1)\n",
            "[10.0, 115.0, 0.0, 0.0, 0.0, 35.3, 0.13, 29.0] => 1 (expected 0)\n",
            "[2.0, 197.0, 70.0, 45.0, 543.0, 30.5, 0.16, 53.0] => 1 (expected 1)\n",
            "[8.0, 125.0, 96.0, 0.0, 0.0, 0.0, 0.23, 54.0] => 1 (expected 1)\n"
          ],
          "name": "stdout"
        },
        {
          "output_type": "stream",
          "text": [
            "/usr/local/lib/python3.6/dist-packages/tensorflow/python/keras/engine/sequential.py:450: UserWarning: `model.predict_classes()` is deprecated and will be removed after 2021-01-01. Please use instead:* `np.argmax(model.predict(x), axis=-1)`,   if your model does multi-class classification   (e.g. if it uses a `softmax` last-layer activation).* `(model.predict(x) > 0.5).astype(\"int32\")`,   if your model does binary classification   (e.g. if it uses a `sigmoid` last-layer activation).\n",
            "  warnings.warn('`model.predict_classes()` is deprecated and '\n"
          ],
          "name": "stderr"
        }
      ]
    }
  ]
}