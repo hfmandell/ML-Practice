{
  "nbformat": 4,
  "nbformat_minor": 0,
  "metadata": {
    "colab": {
      "name": "amphibians.ipynb",
      "provenance": [],
      "collapsed_sections": [],
      "toc_visible": true,
      "authorship_tag": "ABX9TyPniz9vlZ91Xgrqynumfv63",
      "include_colab_link": true
    },
    "kernelspec": {
      "name": "python3",
      "display_name": "Python 3"
    }
  },
  "cells": [
    {
      "cell_type": "markdown",
      "metadata": {
        "id": "view-in-github",
        "colab_type": "text"
      },
      "source": [
        "<a href=\"https://colab.research.google.com/github/hfmandell/ML-Practice/blob/main/amphibians.ipynb\" target=\"_parent\"><img src=\"https://colab.research.google.com/assets/colab-badge.svg\" alt=\"Open In Colab\"/></a>"
      ]
    },
    {
      "cell_type": "markdown",
      "metadata": {
        "id": "_hRFqkl8Q3Uu"
      },
      "source": [
        "# Amphibians Data Set\n",
        "## Author: Hannah Mandell"
      ]
    },
    {
      "cell_type": "markdown",
      "metadata": {
        "id": "mNbTKOEbQvH8"
      },
      "source": [
        "https://archive.ics.uci.edu/ml/datasets/Amphibians\n",
        "\n",
        "Abstract: The dataset is a multilabel/multiclass classification problem. The goal is to predict the presence of amphibians species near the water reservoirs based on features obtained from GIS systems and satellite images"
      ]
    },
    {
      "cell_type": "code",
      "metadata": {
        "id": "h8u9X6loTDkT"
      },
      "source": [
        "from numpy import loadtxt\n",
        "from keras.models import Sequential\n",
        "from keras.layers import Dense\n",
        "\n",
        "import csv\n",
        "\n",
        "import matplotlib.pyplot as plt"
      ],
      "execution_count": 8,
      "outputs": []
    },
    {
      "cell_type": "code",
      "metadata": {
        "colab": {
          "base_uri": "https://localhost:8080/",
          "height": 304
        },
        "id": "lFbVbIVwUBX-",
        "outputId": "0f490f3e-7b96-4ec9-901e-eb343c167a12"
      },
      "source": [
        "import pandas as pd\n",
        "import scipy\n",
        "from scipy.io import arff\n",
        "import re\n",
        "\n",
        "data = pd.read_csv('amphibians.csv')\n",
        "df = pd.DataFrame(data)\n",
        "\n",
        "df.head()"
      ],
      "execution_count": 9,
      "outputs": [
        {
          "output_type": "execute_result",
          "data": {
            "text/html": [
              "<div>\n",
              "<style scoped>\n",
              "    .dataframe tbody tr th:only-of-type {\n",
              "        vertical-align: middle;\n",
              "    }\n",
              "\n",
              "    .dataframe tbody tr th {\n",
              "        vertical-align: top;\n",
              "    }\n",
              "\n",
              "    .dataframe thead th {\n",
              "        text-align: right;\n",
              "    }\n",
              "</style>\n",
              "<table border=\"1\" class=\"dataframe\">\n",
              "  <thead>\n",
              "    <tr style=\"text-align: right;\">\n",
              "      <th></th>\n",
              "      <th>SR</th>\n",
              "      <th>NR</th>\n",
              "      <th>TR</th>\n",
              "      <th>VR</th>\n",
              "      <th>SUR1</th>\n",
              "      <th>SUR2</th>\n",
              "      <th>SUR3</th>\n",
              "      <th>UR</th>\n",
              "      <th>FR</th>\n",
              "      <th>OR</th>\n",
              "      <th>RR</th>\n",
              "      <th>BR</th>\n",
              "      <th>MR</th>\n",
              "      <th>CR</th>\n",
              "      <th>Green frogs</th>\n",
              "      <th>Brown frogs</th>\n",
              "      <th>Common toad</th>\n",
              "      <th>Fire-bellied toad</th>\n",
              "      <th>Tree frog</th>\n",
              "      <th>Common newt</th>\n",
              "      <th>Great crested newt</th>\n",
              "    </tr>\n",
              "  </thead>\n",
              "  <tbody>\n",
              "    <tr>\n",
              "      <th>0</th>\n",
              "      <td>600</td>\n",
              "      <td>1</td>\n",
              "      <td>1</td>\n",
              "      <td>4</td>\n",
              "      <td>6</td>\n",
              "      <td>2</td>\n",
              "      <td>10</td>\n",
              "      <td>0</td>\n",
              "      <td>0</td>\n",
              "      <td>50</td>\n",
              "      <td>0</td>\n",
              "      <td>0</td>\n",
              "      <td>0</td>\n",
              "      <td>1</td>\n",
              "      <td>0</td>\n",
              "      <td>0</td>\n",
              "      <td>0</td>\n",
              "      <td>0</td>\n",
              "      <td>0</td>\n",
              "      <td>0</td>\n",
              "      <td>0</td>\n",
              "    </tr>\n",
              "    <tr>\n",
              "      <th>1</th>\n",
              "      <td>700</td>\n",
              "      <td>1</td>\n",
              "      <td>5</td>\n",
              "      <td>1</td>\n",
              "      <td>10</td>\n",
              "      <td>6</td>\n",
              "      <td>10</td>\n",
              "      <td>3</td>\n",
              "      <td>1</td>\n",
              "      <td>75</td>\n",
              "      <td>1</td>\n",
              "      <td>1</td>\n",
              "      <td>0</td>\n",
              "      <td>1</td>\n",
              "      <td>0</td>\n",
              "      <td>1</td>\n",
              "      <td>1</td>\n",
              "      <td>0</td>\n",
              "      <td>0</td>\n",
              "      <td>1</td>\n",
              "      <td>0</td>\n",
              "    </tr>\n",
              "    <tr>\n",
              "      <th>2</th>\n",
              "      <td>200</td>\n",
              "      <td>1</td>\n",
              "      <td>5</td>\n",
              "      <td>1</td>\n",
              "      <td>10</td>\n",
              "      <td>6</td>\n",
              "      <td>10</td>\n",
              "      <td>3</td>\n",
              "      <td>4</td>\n",
              "      <td>75</td>\n",
              "      <td>1</td>\n",
              "      <td>1</td>\n",
              "      <td>0</td>\n",
              "      <td>1</td>\n",
              "      <td>0</td>\n",
              "      <td>1</td>\n",
              "      <td>1</td>\n",
              "      <td>0</td>\n",
              "      <td>0</td>\n",
              "      <td>1</td>\n",
              "      <td>0</td>\n",
              "    </tr>\n",
              "    <tr>\n",
              "      <th>3</th>\n",
              "      <td>300</td>\n",
              "      <td>1</td>\n",
              "      <td>5</td>\n",
              "      <td>0</td>\n",
              "      <td>6</td>\n",
              "      <td>10</td>\n",
              "      <td>2</td>\n",
              "      <td>3</td>\n",
              "      <td>4</td>\n",
              "      <td>25</td>\n",
              "      <td>0</td>\n",
              "      <td>0</td>\n",
              "      <td>0</td>\n",
              "      <td>1</td>\n",
              "      <td>0</td>\n",
              "      <td>0</td>\n",
              "      <td>1</td>\n",
              "      <td>0</td>\n",
              "      <td>0</td>\n",
              "      <td>0</td>\n",
              "      <td>0</td>\n",
              "    </tr>\n",
              "    <tr>\n",
              "      <th>4</th>\n",
              "      <td>600</td>\n",
              "      <td>2</td>\n",
              "      <td>1</td>\n",
              "      <td>4</td>\n",
              "      <td>10</td>\n",
              "      <td>2</td>\n",
              "      <td>6</td>\n",
              "      <td>0</td>\n",
              "      <td>0</td>\n",
              "      <td>99</td>\n",
              "      <td>0</td>\n",
              "      <td>5</td>\n",
              "      <td>0</td>\n",
              "      <td>1</td>\n",
              "      <td>0</td>\n",
              "      <td>1</td>\n",
              "      <td>1</td>\n",
              "      <td>1</td>\n",
              "      <td>0</td>\n",
              "      <td>1</td>\n",
              "      <td>1</td>\n",
              "    </tr>\n",
              "  </tbody>\n",
              "</table>\n",
              "</div>"
            ],
            "text/plain": [
              "    SR  NR  TR  ...  Tree frog  Common newt  Great crested newt\n",
              "0  600   1   1  ...          0            0                   0\n",
              "1  700   1   5  ...          0            1                   0\n",
              "2  200   1   5  ...          0            1                   0\n",
              "3  300   1   5  ...          0            0                   0\n",
              "4  600   2   1  ...          0            1                   1\n",
              "\n",
              "[5 rows x 21 columns]"
            ]
          },
          "metadata": {
            "tags": []
          },
          "execution_count": 9
        }
      ]
    },
    {
      "cell_type": "code",
      "metadata": {
        "colab": {
          "base_uri": "https://localhost:8080/"
        },
        "id": "GdawHOi-Wv5o",
        "outputId": "dd7123d6-da4b-4045-f0fd-ec31d1b092cd"
      },
      "source": [
        "df.shape"
      ],
      "execution_count": 52,
      "outputs": [
        {
          "output_type": "execute_result",
          "data": {
            "text/plain": [
              "(189, 21)"
            ]
          },
          "metadata": {
            "tags": []
          },
          "execution_count": 52
        }
      ]
    },
    {
      "cell_type": "code",
      "metadata": {
        "colab": {
          "base_uri": "https://localhost:8080/"
        },
        "id": "mo1yvRwfW0ga",
        "outputId": "7ea5d01c-2207-4d76-f258-23db17dc466b"
      },
      "source": [
        "df.columns"
      ],
      "execution_count": 53,
      "outputs": [
        {
          "output_type": "execute_result",
          "data": {
            "text/plain": [
              "Index(['SR', 'NR', 'TR', 'VR', 'SUR1', 'SUR2', 'SUR3', 'UR', 'FR', 'OR', 'RR',\n",
              "       'BR', 'MR', 'CR', 'Green frogs', 'Brown frogs', 'Common toad',\n",
              "       'Fire-bellied toad', 'Tree frog', 'Common newt', 'Great crested newt'],\n",
              "      dtype='object')"
            ]
          },
          "metadata": {
            "tags": []
          },
          "execution_count": 53
        }
      ]
    },
    {
      "cell_type": "code",
      "metadata": {
        "colab": {
          "base_uri": "https://localhost:8080/"
        },
        "id": "i4La6rU5eV7a",
        "outputId": "4511c89a-145b-4fa5-f825-9dbe412c207b"
      },
      "source": [
        "df['Green frogs'].value_counts()[1]"
      ],
      "execution_count": 86,
      "outputs": [
        {
          "output_type": "execute_result",
          "data": {
            "text/plain": [
              "108"
            ]
          },
          "metadata": {
            "tags": []
          },
          "execution_count": 86
        }
      ]
    },
    {
      "cell_type": "code",
      "metadata": {
        "colab": {
          "base_uri": "https://localhost:8080/"
        },
        "id": "Bdb_JXWmedhw",
        "outputId": "b7d2f6ed-1dfc-44f2-fdb0-98d51bf75925"
      },
      "source": [
        "df['Brown frogs'].value_counts()[1]"
      ],
      "execution_count": 87,
      "outputs": [
        {
          "output_type": "execute_result",
          "data": {
            "text/plain": [
              "148"
            ]
          },
          "metadata": {
            "tags": []
          },
          "execution_count": 87
        }
      ]
    },
    {
      "cell_type": "code",
      "metadata": {
        "colab": {
          "base_uri": "https://localhost:8080/"
        },
        "id": "q9R6mbiNevJz",
        "outputId": "69f6c6dd-8c74-4d7e-b2ea-268da44bb6e5"
      },
      "source": [
        "df['Common toad'].value_counts()[1]"
      ],
      "execution_count": 88,
      "outputs": [
        {
          "output_type": "execute_result",
          "data": {
            "text/plain": [
              "124"
            ]
          },
          "metadata": {
            "tags": []
          },
          "execution_count": 88
        }
      ]
    },
    {
      "cell_type": "markdown",
      "metadata": {
        "id": "DYZK2PDgW-07"
      },
      "source": [
        "Bar plot visualization showing the total amphibian counts for each organism:"
      ]
    },
    {
      "cell_type": "code",
      "metadata": {
        "colab": {
          "base_uri": "https://localhost:8080/",
          "height": 620
        },
        "id": "AiqdC1TneySo",
        "outputId": "2b74f252-02da-4ef0-94f4-b3b16f48d3ac"
      },
      "source": [
        "amphib_labels = data[[\"Green frogs\", \"Brown frogs\", \"Common toad\", \"Fire-bellied toad\", \"Tree frog\", \"Common newt\", \"Great crested newt\"]]\n",
        "\n",
        "fig_size = plt.rcParams[\"figure.figsize\"]\n",
        "fig_size[0] = 10\n",
        "fig_size[1] = 8\n",
        "plt.rcParams[\"figure.figsize\"] = fig_size\n",
        "plt.title('amphibian count')\n",
        "plt.ylabel('count')\n",
        "plt.xlabel('amphibian')\n",
        "\n",
        "amphib_labels.sum(axis=0).plot.bar()"
      ],
      "execution_count": 221,
      "outputs": [
        {
          "output_type": "execute_result",
          "data": {
            "text/plain": [
              "<matplotlib.axes._subplots.AxesSubplot at 0x7f58d4792198>"
            ]
          },
          "metadata": {
            "tags": []
          },
          "execution_count": 221
        },
        {
          "output_type": "display_data",
          "data": {
            "image/png": "[encoded data removed]",
            "text/plain": [
              "<Figure size 720x576 with 1 Axes>"
            ]
          },
          "metadata": {
            "tags": [],
            "needs_background": "light"
          }
        }
      ]
    },
    {
      "cell_type": "markdown",
      "metadata": {
        "id": "_uL6vV8NXMBZ"
      },
      "source": [
        "Brown Frogs appear to be the most prevalent amphibians, closely followed by Common toads and Green frogs, whereas Great crested newts are the least common. "
      ]
    },
    {
      "cell_type": "markdown",
      "metadata": {
        "id": "BxDkFTlZXoas"
      },
      "source": [
        "## Using a Single Dense Output Layer\n",
        "The data is already cleaned, courtesy of UCI ML Institute. I removed two columns that UCI said weren't relevant to the analysis. \n",
        "\n",
        "Next, we create our input and output data."
      ]
    },
    {
      "cell_type": "markdown",
      "metadata": {
        "id": "pEicTRwAYFDh"
      },
      "source": [
        "# A.1 Storing our Input & Output Data\n",
        "The columns: SR,\tNR,\tTR,\tVR,\tSUR1,\tSUR2,\tSUR3,\tUR,\tFR,\tOR,\tRR,\tBR,\tMR,\tand CR will serve as our input data. \\\n",
        "The amphibian classifiers will are our output data: Green frogs,\tBrown frogs,\tCommon toad,\tFire-bellied toad,\tTree frog,\tCommon newt,\tGreat crested newt"
      ]
    },
    {
      "cell_type": "code",
      "metadata": {
        "id": "IWQBIcYRWWEy"
      },
      "source": [
        "# split into input (X) and output (y) variables\n",
        "X = df.iloc[0:189,0:14]\n",
        "y = df.iloc[0:189,14:21]\n",
        "\n",
        "X, y"
      ],
      "execution_count": null,
      "outputs": []
    },
    {
      "cell_type": "code",
      "metadata": {
        "id": "aVnDZA2UZJya"
      },
      "source": [
        "# we split our input & output data into training and testing data\n",
        "from sklearn.model_selection import train_test_split\n",
        "\n",
        "X_train, X_test, y_train, y_test = train_test_split(X, y, test_size=0.10, random_state=42)"
      ],
      "execution_count": 213,
      "outputs": []
    },
    {
      "cell_type": "code",
      "metadata": {
        "id": "Nkh-VwpfY6DH"
      },
      "source": [
        "X_test, y_test"
      ],
      "execution_count": null,
      "outputs": []
    },
    {
      "cell_type": "markdown",
      "metadata": {
        "id": "6VuAKEzaaLnN"
      },
      "source": [
        "## A.2 Building our Model"
      ]
    },
    {
      "cell_type": "code",
      "metadata": {
        "id": "dfSEpdw_ZsQF"
      },
      "source": [
        "from keras.models import Sequential\n",
        "from keras.layers.core import Activation, Dropout, Dense\n",
        "from keras.layers import Flatten, LSTM\n",
        "from keras.layers import GlobalMaxPooling1D\n",
        "from keras.models import Model\n",
        "from keras.layers.embeddings import Embedding\n",
        "from sklearn.model_selection import train_test_split\n",
        "from keras.preprocessing.text import Tokenizer\n",
        "from keras.layers import Input\n",
        "from keras.layers.merge import Concatenate\n",
        "\n",
        "import matplotlib.pyplot as plt\n"
      ],
      "execution_count": 214,
      "outputs": []
    },
    {
      "cell_type": "markdown",
      "metadata": {
        "id": "s2qmaL84fvCo"
      },
      "source": [
        "# Configuration options: the second step is specifying a set of configuration options for dataset generation and the model. For example, we create 10000 samples with 6 features (i.e. columns) per sample (or vector/array), which have 3 target classes of which 2 are ‘activated’ per sample on average. We will train for 50 iterations (epochs), initialize our random number generators with a seed of 42, use a 250-sample batch size, output everything on stdout through verbosity = 1 and use 20% of the training data for validation purposes.\n"
      ]
    },
    {
      "cell_type": "code",
      "metadata": {
        "id": "dUGnLvjIZvYL"
      },
      "source": [
        "# Configuration\n",
        "n_features = 14\n",
        "n_classes = 7\n",
        "\n",
        "# make model\n",
        "model = Sequential()\n",
        "model.add(Dense(64, activation='relu', input_dim=n_features))\n",
        "model.add(Dense(32, activation='relu'))\n",
        "model.add(Dense(16, activation='relu'))\n",
        "model.add(Dense(8, activation='relu'))\n",
        "model.add(Dense(n_classes, activation='sigmoid'))\n",
        "\n",
        "model.compile(loss='binary_crossentropy', optimizer='adam', metrics=['acc'])"
      ],
      "execution_count": 215,
      "outputs": []
    },
    {
      "cell_type": "code",
      "metadata": {
        "colab": {
          "base_uri": "https://localhost:8080/"
        },
        "id": "EfhNf15Wb7zY",
        "outputId": "61ce8667-7dd2-4d2a-9de4-5b3cea963c92"
      },
      "source": [
        "print(model.summary())"
      ],
      "execution_count": 216,
      "outputs": [
        {
          "output_type": "stream",
          "text": [
            "Model: \"sequential_33\"\n",
            "_________________________________________________________________\n",
            "Layer (type)                 Output Shape              Param #   \n",
            "=================================================================\n",
            "dense_123 (Dense)            (None, 64)                960       \n",
            "_________________________________________________________________\n",
            "dense_124 (Dense)            (None, 32)                2080      \n",
            "_________________________________________________________________\n",
            "dense_125 (Dense)            (None, 16)                528       \n",
            "_________________________________________________________________\n",
            "dense_126 (Dense)            (None, 8)                 136       \n",
            "_________________________________________________________________\n",
            "dense_127 (Dense)            (None, 7)                 63        \n",
            "=================================================================\n",
            "Total params: 3,767\n",
            "Trainable params: 3,767\n",
            "Non-trainable params: 0\n",
            "_________________________________________________________________\n",
            "None\n"
          ],
          "name": "stdout"
        }
      ]
    },
    {
      "cell_type": "markdown",
      "metadata": {
        "id": "U3yUkFJPcQlQ"
      },
      "source": [
        "Printing the architechture of our neural network:"
      ]
    },
    {
      "cell_type": "code",
      "metadata": {
        "colab": {
          "base_uri": "https://localhost:8080/",
          "height": 644
        },
        "id": "cxVXtKuqcGoB",
        "outputId": "d914ab80-92a6-4e76-f399-7292834e0b72"
      },
      "source": [
        "from keras.utils import plot_model\n",
        "plot_model(model, to_file='model_plot4a.png', show_shapes=True, show_layer_names=True)\n"
      ],
      "execution_count": 217,
      "outputs": [
        {
          "output_type": "execute_result",
          "data": {
            "image/png": "[encoded data removed]",
            "text/plain": [
              "<IPython.core.display.Image object>"
            ]
          },
          "metadata": {
            "tags": []
          },
          "execution_count": 217
        }
      ]
    },
    {
      "cell_type": "markdown",
      "metadata": {
        "id": "wZuSHQOAeJRm"
      },
      "source": [
        "## A.3 Training our Model"
      ]
    },
    {
      "cell_type": "code",
      "metadata": {
        "colab": {
          "base_uri": "https://localhost:8080/"
        },
        "id": "pOEzdGm7eL4m",
        "outputId": "913a0c4f-02af-436c-f6ec-077d9a729c46"
      },
      "source": [
        "history = model.fit(X_train, y_train, epochs=10, batch_size = 30, verbose=2, validation_split=0.2)"
      ],
      "execution_count": 218,
      "outputs": [
        {
          "output_type": "stream",
          "text": [
            "Epoch 1/10\n",
            "5/5 - 1s - loss: 0.7052 - acc: 0.1176 - val_loss: 0.6957 - val_acc: 0.0294\n",
            "Epoch 2/10\n",
            "5/5 - 0s - loss: 0.6918 - acc: 0.0515 - val_loss: 0.6977 - val_acc: 0.0588\n",
            "Epoch 3/10\n",
            "5/5 - 0s - loss: 0.6909 - acc: 0.0588 - val_loss: 0.6981 - val_acc: 0.0588\n",
            "Epoch 4/10\n",
            "5/5 - 0s - loss: 0.6898 - acc: 0.0588 - val_loss: 0.6964 - val_acc: 0.0588\n",
            "Epoch 5/10\n",
            "5/5 - 0s - loss: 0.6887 - acc: 0.0588 - val_loss: 0.6941 - val_acc: 0.0588\n",
            "Epoch 6/10\n",
            "5/5 - 0s - loss: 0.6878 - acc: 0.0515 - val_loss: 0.6920 - val_acc: 0.0588\n",
            "Epoch 7/10\n",
            "5/5 - 0s - loss: 0.6867 - acc: 0.0515 - val_loss: 0.6902 - val_acc: 0.0588\n",
            "Epoch 8/10\n",
            "5/5 - 0s - loss: 0.6862 - acc: 0.1397 - val_loss: 0.6890 - val_acc: 0.3235\n",
            "Epoch 9/10\n",
            "5/5 - 0s - loss: 0.6850 - acc: 0.2941 - val_loss: 0.6900 - val_acc: 0.3235\n",
            "Epoch 10/10\n",
            "5/5 - 0s - loss: 0.6838 - acc: 0.3015 - val_loss: 0.6955 - val_acc: 0.3235\n"
          ],
          "name": "stdout"
        }
      ]
    },
    {
      "cell_type": "markdown",
      "metadata": {
        "id": "bAPOya4yeSSn"
      },
      "source": [
        "## A.4 Evaluating our Model on the Test Set"
      ]
    },
    {
      "cell_type": "code",
      "metadata": {
        "colab": {
          "base_uri": "https://localhost:8080/"
        },
        "id": "c16M3ML8eXPl",
        "outputId": "05d35acb-9340-41b0-ed15-2a753657a8f8"
      },
      "source": [
        "score = model.evaluate(X_test, y_test, verbose=1)\n",
        "\n",
        "print(\"Test Loss:\", score[0])\n",
        "print(\"Test Accuracy:\", score[1])"
      ],
      "execution_count": 219,
      "outputs": [
        {
          "output_type": "stream",
          "text": [
            "1/1 [==============================] - 0s 15ms/step - loss: 0.6983 - acc: 0.5263\n",
            "Test Loss: 0.6982775926589966\n",
            "Test Accuracy: 0.5263158082962036\n"
          ],
          "name": "stdout"
        }
      ]
    },
    {
      "cell_type": "markdown",
      "metadata": {
        "id": "aCbZqoKwio9T"
      },
      "source": [
        "Average of 47% accuracy under the current model (using different data as training data), a low value. This might be attributeed to the smaller sample size. \n",
        "\n",
        "---\n",
        "\n"
      ]
    },
    {
      "cell_type": "markdown",
      "metadata": {
        "id": "MrXU4ZFfebKM"
      },
      "source": [
        "## A.5 Is the Model Overfitting?"
      ]
    },
    {
      "cell_type": "code",
      "metadata": {
        "colab": {
          "base_uri": "https://localhost:8080/",
          "height": 1000
        },
        "id": "sQCyxk2Weew2",
        "outputId": "7dad9210-4be6-4823-8dae-bbf1c4b0a97e"
      },
      "source": [
        "import matplotlib.pyplot as plt\n",
        "\n",
        "plt.plot(history.history['acc'])\n",
        "plt.plot(history.history['val_acc'])\n",
        "\n",
        "plt.title('model accuracy')\n",
        "plt.ylabel('accuracy')\n",
        "plt.xlabel('epoch')\n",
        "plt.legend(['train','test'], loc='upper left')\n",
        "plt.show()\n",
        "\n",
        "plt.plot(history.history['loss'])\n",
        "plt.plot(history.history['val_loss'])\n",
        "\n",
        "plt.title('model loss')\n",
        "plt.ylabel('loss')\n",
        "plt.xlabel('epoch')\n",
        "plt.legend(['train','test'], loc='upper left')\n",
        "plt.show()"
      ],
      "execution_count": 220,
      "outputs": [
        {
          "output_type": "display_data",
          "data": {
            "image/png": "[encoded data removed]",
            "text/plain": [
              "<Figure size 720x576 with 1 Axes>"
            ]
          },
          "metadata": {
            "tags": [],
            "needs_background": "light"
          }
        },
        {
          "output_type": "display_data",
          "data": {
            "image/png": "[encoded data removed]",
            "text/plain": [
              "<Figure size 720x576 with 1 Axes>"
            ]
          },
          "metadata": {
            "tags": [],
            "needs_background": "light"
          }
        }
      ]
    },
    {
      "cell_type": "markdown",
      "metadata": {
        "id": "PJP1Nx66ojRq"
      },
      "source": [
        "No, the model is not over-fitting, as is evident by the lack of convergence between the two lines."
      ]
    }
  ]
}